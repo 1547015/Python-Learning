{
 "cells": [
  {
   "cell_type": "code",
   "execution_count": 60,
   "metadata": {},
   "outputs": [],
   "source": [
    "## The output is a file with name same as inputFile+ _snowflake appended to it.\n",
    "import re\n",
    "import os\n",
    "import pandas as pd\n",
    "\n",
    "def apply_regex_sub(regex, expression, sub_string):\n",
    " \n",
    "\tp = re.compile(regex, re.MULTILINE)\n",
    "\treturn re.sub(p, sub_string, expression)"
   ]
  },
  {
   "cell_type": "code",
   "execution_count": 61,
   "metadata": {},
   "outputs": [],
   "source": [
    "#Set Directory Path\n",
    "#dir_path = \"D://Work//RRD//Python\"\n",
    "dir_path = \"D://Work\"\n",
    "os.chdir(dir_path)\n",
    "os.getcwd()\n",
    "#IMySqlFile\n",
    "#Filename_Input = 'TablesScripts0520' #Original\n",
    "Filename_Input = 'BASE'\n",
    "#Extension of file\n",
    "Filename_Output = 'ListOfTables_BASE'\n",
    "Ext = '.sql'\n",
    "ext2='.txt'\n",
    "\n",
    " "
   ]
  },
  {
   "cell_type": "code",
   "execution_count": 62,
   "metadata": {},
   "outputs": [
    {
     "name": "stdout",
     "output_type": "stream",
     "text": [
      "D://Work\\ANALYTICS.sql\n",
      "D://Work\\BASE.sql\n",
      "D://Work\\CONFIG.sql\n",
      "D://Work\\ETL.sql\n",
      "D://Work\\ListOfTables.sql\n",
      "D://Work\\ListOfTables_AN.txt\n",
      "D://Work\\ListOfTables_BASE.sql\n",
      "D://Work\\ListOfTables_Cfg.txt\n",
      "D://Work\\ListOfTables_ETL.txt\n",
      "D://Work\\ListOfTables_RE.txt\n",
      "D://Work\\PUMA_BASE_Tables_Snowflake.sql\n",
      "D://Work\\PUMA_ETL_Tables_Snowflake.sql\n",
      "D://Work\\REPORTING.sql\n"
     ]
    }
   ],
   "source": [
    "### Traverse in a Dir and Get filenames\n",
    " \n",
    "#dir_path = \"D://Work//RRD//Code//Tables//Hema//ETL\"\n",
    "dir_path = \"D://Work\"\n",
    "\n",
    "os.chdir(dir_path)\n",
    "\n",
    "for file in os.listdir(dir_path):\n",
    "     filename = os.fsdecode(file)\n",
    "    # if filename.endswith(\".asm\") or filename.endswith(\".py\"): \n",
    "     print(os.path.join(dir_path, filename))\n",
    "     #    continue\n",
    "     #else:\n",
    "     #    continue"
   ]
  },
  {
   "cell_type": "code",
   "execution_count": 65,
   "metadata": {},
   "outputs": [
    {
     "name": "stdout",
     "output_type": "stream",
     "text": [
      "re.compile('CREATE OR REPLACE TABLE(?:(?!;).)*')\n",
      "['CREATE OR REPLACE TABLE PUMA_PROD.BASE.ACCOUNT (', 'CREATE OR REPLACE TABLE PUMA_PROD.BASE.ACCOUNTDETAIL (', 'CREATE OR REPLACE TABLE PUMA_PROD.BASE.ACCOUNTGROUP (', 'CREATE OR REPLACE TABLE PUMA_PROD.BASE.ACCOUNTGROUPDATASOURCEMAP (', 'CREATE OR REPLACE TABLE PUMA_PROD.BASE.CDI_NCOA (', 'CREATE OR REPLACE TABLE PUMA_PROD.BASE.CDI_NCOAHIST (', 'CREATE OR REPLACE TABLE PUMA_PROD.BASE.CONTACT (', 'CREATE OR REPLACE TABLE PUMA_PROD.BASE.CONTACTATTRIBUTE (', 'CREATE OR REPLACE TABLE PUMA_PROD.BASE.CONTACTEMAIL (', 'CREATE OR REPLACE TABLE PUMA_PROD.BASE.CONTACTGROUPMAP_EMAIL (', 'CREATE OR REPLACE TABLE PUMA_PROD.BASE.CONTACTGROUPMAP_HOUSEHOLD (', 'CREATE OR REPLACE TABLE PUMA_PROD.BASE.CONTACTGROUPMAP_LOCATION (', 'CREATE OR REPLACE TABLE PUMA_PROD.BASE.CONTACTGROUPMAP_NAME (', 'CREATE OR REPLACE TABLE PUMA_PROD.BASE.CONTACTGROUPMAP_PHONE (', 'CREATE OR REPLACE TABLE PUMA_PROD.BASE.CONTACTGROUPMAP_SUPER (', 'CREATE OR REPLACE TABLE PUMA_PROD.BASE.CONTACTGROUP_EMAIL (', 'CREATE OR REPLACE TABLE PUMA_PROD.BASE.CONTACTGROUP_HOUSEHOLD (', 'CREATE OR REPLACE TABLE PUMA_PROD.BASE.CONTACTGROUP_LOCATION (', 'CREATE OR REPLACE TABLE PUMA_PROD.BASE.CONTACTGROUP_NAME (', 'CREATE OR REPLACE TABLE PUMA_PROD.BASE.CONTACTGROUP_PHONE (', 'CREATE OR REPLACE TABLE PUMA_PROD.BASE.CONTACTGROUP_SUPER (', 'CREATE OR REPLACE TABLE PUMA_PROD.BASE.CONTACTPHONE (', 'CREATE OR REPLACE TABLE PUMA_PROD.BASE.CONTACTRECORD (', 'CREATE OR REPLACE TABLE PUMA_PROD.BASE.CONTACTRECORD_CLEAN (', 'CREATE OR REPLACE TABLE PUMA_PROD.BASE.CUSTOMER (', 'CREATE OR REPLACE TABLE PUMA_PROD.BASE.CUSTOMEREMAILGROUPMAP (', 'CREATE OR REPLACE TABLE PUMA_PROD.BASE.CUSTOMERHOUSEHOLDGROUPMAP (', 'CREATE OR REPLACE TABLE PUMA_PROD.BASE.CUSTOMERLOCATIONGROUPMAP (', 'CREATE OR REPLACE TABLE PUMA_PROD.BASE.CUSTOMERNAMEGROUPMAP (', 'CREATE OR REPLACE TABLE PUMA_PROD.BASE.CUSTOMERPHONEGROUPMAP (', 'CREATE OR REPLACE TABLE PUMA_PROD.BASE.CUSTOMERSUPERGROUPMAP (', 'CREATE OR REPLACE TABLE PUMA_PROD.BASE.DFADHOCCONTACT (', 'CREATE OR REPLACE TABLE PUMA_PROD.BASE.DFADHOCCONTACTHIST (', 'CREATE OR REPLACE TABLE PUMA_PROD.BASE.DFPUMAARTICLE (', 'CREATE OR REPLACE TABLE PUMA_PROD.BASE.DFPUMAARTICLEHIST (', 'CREATE OR REPLACE TABLE PUMA_PROD.BASE.DFPUMACONTROL (', 'CREATE OR REPLACE TABLE PUMA_PROD.BASE.DFPUMACUSTOMER (', 'CREATE OR REPLACE TABLE PUMA_PROD.BASE.DFPUMACUSTOMERHIST (', 'CREATE OR REPLACE TABLE PUMA_PROD.BASE.DFPUMANEWSTORENUMBER (', 'CREATE OR REPLACE TABLE PUMA_PROD.BASE.DFPUMARETAILHIERARCHY (', 'CREATE OR REPLACE TABLE PUMA_PROD.BASE.DFPUMARETAILHIERARCHY_ORIG (', 'CREATE OR REPLACE TABLE PUMA_PROD.BASE.DFPUMATRANSACTION (', 'CREATE OR REPLACE TABLE PUMA_PROD.BASE.DFSHQABANDONEDCART (', 'CREATE OR REPLACE TABLE PUMA_PROD.BASE.DFSMARTBASEARTICLE (', 'CREATE OR REPLACE TABLE PUMA_PROD.BASE.DFSMARTBASESTORE (', 'CREATE OR REPLACE TABLE PUMA_PROD.BASE.DFSMARTBASETRANSACTION (', 'CREATE OR REPLACE TABLE PUMA_PROD.BASE.EMAILGROUP (', 'CREATE OR REPLACE TABLE PUMA_PROD.BASE.HOUSEHOLDGROUP (', 'CREATE OR REPLACE TABLE PUMA_PROD.BASE.INFOGROUPAPPEND_EMAIL (', 'CREATE OR REPLACE TABLE PUMA_PROD.BASE.INFOGROUPAPPEND_EMAILHIST (', 'CREATE OR REPLACE TABLE PUMA_PROD.BASE.LOCATIONGROUP (', 'CREATE OR REPLACE TABLE PUMA_PROD.BASE.NAMEGROUP (', 'CREATE OR REPLACE TABLE PUMA_PROD.BASE.OPTOUT_DM_CUSTSID (', 'CREATE OR REPLACE TABLE PUMA_PROD.BASE.OPTOUT_DM_FIRSTUNSUB (', 'CREATE OR REPLACE TABLE PUMA_PROD.BASE.OPTOUT_DM_PERSONCODE (', 'CREATE OR REPLACE TABLE PUMA_PROD.BASE.OPTOUT_EM_CUSTSID (', 'CREATE OR REPLACE TABLE PUMA_PROD.BASE.OPTOUT_EM_EMAILADDRESS (', 'CREATE OR REPLACE TABLE PUMA_PROD.BASE.OPTOUT_EM_FIRSTUNSUB (', 'CREATE OR REPLACE TABLE PUMA_PROD.BASE.OPTOUT_EM_SOFTBOUNCE (', 'CREATE OR REPLACE TABLE PUMA_PROD.BASE.PERSONNAMEERRORCODE (', 'CREATE OR REPLACE TABLE PUMA_PROD.BASE.PHONEGROUP (', 'CREATE OR REPLACE TABLE PUMA_PROD.BASE.PREVCONTACTGROUPSUPER (', 'CREATE OR REPLACE TABLE PUMA_PROD.BASE.PREVCUSTOMERCONTACTGROUPSUPERMAP (', 'CREATE OR REPLACE TABLE PUMA_PROD.BASE.PREVCUSTOMERSUPERGROUPMAP (', 'CREATE OR REPLACE TABLE PUMA_PROD.BASE.PREVSUPERGROUP (', 'CREATE OR REPLACE TABLE PUMA_PROD.BASE.SFMC_BOUNCE (', 'CREATE OR REPLACE TABLE PUMA_PROD.BASE.SFMC_CLICK (', 'CREATE OR REPLACE TABLE PUMA_PROD.BASE.SFMC_CONVERSION (', 'CREATE OR REPLACE TABLE PUMA_PROD.BASE.SFMC_OPEN (', 'CREATE OR REPLACE TABLE PUMA_PROD.BASE.SFMC_SENDJOBS (', 'CREATE OR REPLACE TABLE PUMA_PROD.BASE.SFMC_SENDLOG (', 'CREATE OR REPLACE TABLE PUMA_PROD.BASE.SFMC_SENT (', 'CREATE OR REPLACE TABLE PUMA_PROD.BASE.SFMC_UNSUBSCRIBE (', 'CREATE OR REPLACE TABLE PUMA_PROD.BASE.SUPERGROUP (', 'CREATE OR REPLACE TABLE PUMA_PROD.BASE.TRANSACTIONDETAIL (', 'CREATE OR REPLACE TABLE PUMA_PROD.BASE.TRANSACTIONHEADER (']\n",
      "0\n"
     ]
    }
   ],
   "source": [
    "TableNum = 0\n",
    " \n",
    "f = open(Filename_Output+ext2,'w')\n",
    "#pattern = re.compile(r'CREATE OR REPLACE TABLE(?:(?!;).)*')\n",
    "pattern = re.compile(r'CREATE OR REPLACE TABLE(?:(?!;).)*')\n",
    "\n",
    "with open(Filename_Input+Ext, 'r') as myfile:\n",
    "    \n",
    "    data = myfile.read()#.replace('\\n', 'ESCAPELINE')\n",
    "    print(re.findall(pattern,data))\n",
    "    \n",
    "    for (mysql_ddl) in re.findall(pattern, data):\n",
    "        TableNum =TableNum+1\n",
    "        #print(mysql_ddl)\n",
    "        fullTableName= mysql_ddl.split()[4]\n",
    "        #fullTableName = apply_regex_sub('`', fullTableName, u'')\n",
    "        tableName = fullTableName.split('.')\n",
    "        tableName=tableName[2]\n",
    "        print(tableName)\n",
    "        \n",
    "        #SF=  SF.replace('ESCAPELINE', '\\n')\n",
    " \n",
    "        f.write('\\n '+tableName+'')#.encode('unicode_escape').decode('utf-8'))\n",
    "        \n",
    "        #print(TableNum,SF,sep='\\n')\n",
    "print(TableNum)\n",
    "f.close()"
   ]
  },
  {
   "cell_type": "code",
   "execution_count": 84,
   "metadata": {},
   "outputs": [
    {
     "ename": "IndexError",
     "evalue": "list index out of range",
     "output_type": "error",
     "traceback": [
      "\u001b[1;31m---------------------------------------------------------------------------\u001b[0m",
      "\u001b[1;31mIndexError\u001b[0m                                Traceback (most recent call last)",
      "\u001b[1;32m<ipython-input-84-c043ae918bd9>\u001b[0m in \u001b[0;36m<module>\u001b[1;34m\u001b[0m\n\u001b[0;32m      1\u001b[0m \u001b[1;32mfor\u001b[0m \u001b[1;33m(\u001b[0m\u001b[0mmysql_ddl\u001b[0m\u001b[1;33m)\u001b[0m \u001b[1;32min\u001b[0m \u001b[0mre\u001b[0m\u001b[1;33m.\u001b[0m\u001b[0mfindall\u001b[0m\u001b[1;33m(\u001b[0m\u001b[0mpattern\u001b[0m\u001b[1;33m,\u001b[0m \u001b[0mdata\u001b[0m\u001b[1;33m)\u001b[0m\u001b[1;33m:\u001b[0m\u001b[1;33m\u001b[0m\u001b[1;33m\u001b[0m\u001b[0m\n\u001b[0;32m      2\u001b[0m        \u001b[0mTableNum\u001b[0m \u001b[1;33m=\u001b[0m\u001b[0mTableNum\u001b[0m\u001b[1;33m+\u001b[0m\u001b[1;36m1\u001b[0m\u001b[1;33m\u001b[0m\u001b[1;33m\u001b[0m\u001b[0m\n\u001b[1;32m----> 3\u001b[1;33m        \u001b[0mfullTableName\u001b[0m\u001b[1;33m=\u001b[0m \u001b[0mmysql_ddl\u001b[0m\u001b[1;33m.\u001b[0m\u001b[0msplit\u001b[0m\u001b[1;33m(\u001b[0m\u001b[1;33m)\u001b[0m\u001b[1;33m[\u001b[0m\u001b[1;36m2\u001b[0m\u001b[1;33m]\u001b[0m\u001b[1;33m\u001b[0m\u001b[1;33m\u001b[0m\u001b[0m\n\u001b[0m\u001b[0;32m      4\u001b[0m        \u001b[0mfullTableName\u001b[0m \u001b[1;33m=\u001b[0m \u001b[0mapply_regex_sub\u001b[0m\u001b[1;33m(\u001b[0m\u001b[1;34m'`'\u001b[0m\u001b[1;33m,\u001b[0m \u001b[0mfullTableName\u001b[0m\u001b[1;33m,\u001b[0m \u001b[1;34mu''\u001b[0m\u001b[1;33m)\u001b[0m\u001b[1;33m\u001b[0m\u001b[1;33m\u001b[0m\u001b[0m\n\u001b[0;32m      5\u001b[0m        \u001b[0mtableName\u001b[0m \u001b[1;33m=\u001b[0m \u001b[0mfullTableName\u001b[0m\u001b[1;33m.\u001b[0m\u001b[0msplit\u001b[0m\u001b[1;33m(\u001b[0m\u001b[1;34m'.'\u001b[0m\u001b[1;33m)\u001b[0m\u001b[1;33m\u001b[0m\u001b[1;33m\u001b[0m\u001b[0m\n",
      "\u001b[1;31mIndexError\u001b[0m: list index out of range"
     ]
    }
   ],
   "source": [
    " for (mysql_ddl) in re.findall(pattern, data):\n",
    "        TableNum =TableNum+1\n",
    "        fullTableName= mysql_ddl.split()[2] \n",
    "        fullTableName = apply_regex_sub('`', fullTableName, u'')\n",
    "        tableName = fullTableName.split('.')\n",
    "        tableName=tableName[1]\n",
    "        SF=  SF.replace('ESCAPELINE', '\\n')\n",
    " \n",
    "        f.write('\\n\\n//Table'+str(tableName)+'\\n')#.encode('unicode_escape').decode('utf-8'))\n",
    "        \n",
    "        #print(TableNum,SF,sep='\\n')"
   ]
  },
  {
   "cell_type": "code",
   "execution_count": null,
   "metadata": {},
   "outputs": [],
   "source": []
  }
 ],
 "metadata": {
  "kernelspec": {
   "display_name": "Python 3",
   "language": "python",
   "name": "python3"
  },
  "language_info": {
   "codemirror_mode": {
    "name": "ipython",
    "version": 3
   },
   "file_extension": ".py",
   "mimetype": "text/x-python",
   "name": "python",
   "nbconvert_exporter": "python",
   "pygments_lexer": "ipython3",
   "version": "3.7.3"
  }
 },
 "nbformat": 4,
 "nbformat_minor": 2
}
